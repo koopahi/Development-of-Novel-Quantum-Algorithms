{
 "cells": [
  {
   "cell_type": "code",
   "execution_count": 26,
   "id": "a92a0cdf-0996-475d-92fa-3141d3985c92",
   "metadata": {},
   "outputs": [],
   "source": [
    "from classiq import *"
   ]
  },
  {
   "cell_type": "code",
   "execution_count": null,
   "id": "de07da06-518a-45a1-a3ee-f8ccfc9538b0",
   "metadata": {},
   "outputs": [
    {
     "name": "stdout",
     "output_type": "stream",
     "text": [
      "1 {'000': 1}\n",
      "2 {'000': 2}\n",
      "3 {'000': 3}\n",
      "4 {'000': 4}\n",
      "5 {'000': 5}\n",
      "6 {'000': 6}\n",
      "7 {'000': 7}\n",
      "8 {'000': 8}\n",
      "9 {'000': 9}\n",
      "10 {'000': 10}\n",
      "11 {'000': 11}\n",
      "12 {'000': 12}\n",
      "13 {'000': 13}\n",
      "14 {'000': 14}\n",
      "15 {'000': 15}\n",
      "16 {'000': 16}\n"
     ]
    }
   ],
   "source": [
    "from classiq import (\n",
    "    CReal,\n",
    "    Output,\n",
    "    Pauli,\n",
    "    PauliTerm,\n",
    "    QArray,\n",
    "    QBit,\n",
    "    allocate,\n",
    "    create_model,\n",
    "    qfunc,\n",
    "    suzuki_trotter,\n",
    "    synthesize,\n",
    "    write_qmod,\n",
    ")\n",
    "\n",
    "\n",
    "@qfunc\n",
    "def main(a: CReal, x: CReal, qba: Output[QArray[QBit]]):\n",
    "    allocate(3, qba)\n",
    "    suzuki_trotter(\n",
    "        [\n",
    "            PauliTerm(pauli=[Pauli.X, Pauli.X, Pauli.Z], coefficient=1),\n",
    "            PauliTerm(pauli=[Pauli.Y, Pauli.X, Pauli.Z], coefficient=0.5),\n",
    "        ],\n",
    "        evolution_coefficient=0.01,\n",
    "        order=1,\n",
    "        repetitions=100,\n",
    "        qbv=qba,\n",
    "    )\n",
    "\n",
    "from classiq.execution import ExecutionPreferences\n",
    "\n",
    "\n",
    "\n",
    "\n",
    "# preferences = Preferences(\n",
    "#     backend_service_provider=ProviderVendor.ALICE_AND_BOB,\n",
    "#     backend_name=AliceBobBackendNames.LOGICAL_TARGET,\n",
    "# )\n",
    "\n",
    "qmod = create_model(main)\n",
    "write_qmod(qmod, \"suzuki_trotter\")\n",
    "for i in range(1, 100): \n",
    "    execution_preferences = ExecutionPreferences(\n",
    "    num_shots=i,\n",
    "    # backend_preferences=backend_preferences,\n",
    "    )\n",
    "    qmod = set_execution_preferences(qmod, execution_preferences)\n",
    "    qprog = synthesize(qmod)\n",
    "# show(qprog)\n",
    "    result = execute(qprog).result()[0].value.counts\n",
    "    print(i, result)"
   ]
  },
  {
   "cell_type": "code",
   "execution_count": 54,
   "id": "999a0537-3a2a-4e34-b909-4c6c517e824e",
   "metadata": {},
   "outputs": [
    {
     "name": "stdout",
     "output_type": "stream",
     "text": [
      "[TaggedExecutionDetails(value_type=<SavedResultValueType.ExecutionDetails: 'ExecutionDetails'>, name='result', value=ExecutionDetails(vendor_format_result={}, counts={'110': 1, '000': 999}, counts_lsb_right=True, parsed_states={'110': {'qba': [0, 1, 1]}, '000': {'qba': [0, 0, 0]}}, histogram=None, output_qubits_map={'qba': (0, 1, 2)}, state_vector=None, parsed_state_vector_states=None, physical_qubits_map={'qba': (0, 1, 2)}, num_shots=1000))]\n"
     ]
    }
   ],
   "source": [
    "print(result)"
   ]
  },
  {
   "cell_type": "code",
   "execution_count": 40,
   "id": "8d07023e-4d8d-4baf-b1be-7da9d6c02b07",
   "metadata": {},
   "outputs": [],
   "source": [
    "from scipy.optimize import curve_fit\n",
    "def zero_noise_extrapolation(expectation_values, noise_levels):\n",
    "    def exponential(x, a, b, c):\n",
    "        return a * np.exp(b * x) + c\n",
    "    params, _ = curve_fit(exponential, noise_levels, expectation_values)\n",
    "    return params[-1]  # Extrapolated zero-noise value"
   ]
  },
  {
   "cell_type": "code",
   "execution_count": null,
   "id": "0c95a9ee-489a-4507-8e7e-f16348990db0",
   "metadata": {},
   "outputs": [],
   "source": []
  },
  {
   "cell_type": "code",
   "execution_count": 52,
   "id": "08c5eaf5-c4cd-477a-bc17-d4594562db71",
   "metadata": {},
   "outputs": [
    {
     "name": "stdout",
     "output_type": "stream",
     "text": [
      "[TaggedExecutionDetails(value_type=<SavedResultValueType.ExecutionDetails: 'ExecutionDetails'>, name='result', value=ExecutionDetails(vendor_format_result={}, counts={'110': 1, '000': 999}, counts_lsb_right=True, parsed_states={'110': {'qba': [0, 1, 1]}, '000': {'qba': [0, 0, 0]}}, histogram=None, output_qubits_map={'qba': (0, 1, 2)}, state_vector=None, parsed_state_vector_states=None, physical_qubits_map={'qba': (0, 1, 2)}, num_shots=1000))]\n"
     ]
    }
   ],
   "source": []
  },
  {
   "cell_type": "code",
   "execution_count": 14,
   "id": "3a9c3588-7395-4c65-8ee5-a0b4b3aea427",
   "metadata": {},
   "outputs": [
    {
     "ename": "NameError",
     "evalue": "name 'QuantumCircuit' is not defined",
     "output_type": "error",
     "traceback": [
      "\u001b[0;31m---------------------------------------------------------------------------\u001b[0m",
      "\u001b[0;31mNameError\u001b[0m                                 Traceback (most recent call last)",
      "Cell \u001b[0;32mIn[14], line 9\u001b[0m\n\u001b[1;32m      6\u001b[0m delta_t \u001b[38;5;241m=\u001b[39m \u001b[38;5;241m0.1\u001b[39m  \u001b[38;5;66;03m# Time step\u001b[39;00m\n\u001b[1;32m      8\u001b[0m \u001b[38;5;66;03m# Create the circuit\u001b[39;00m\n\u001b[0;32m----> 9\u001b[0m qc \u001b[38;5;241m=\u001b[39m QuantumCircuit(\u001b[38;5;241m127\u001b[39m)  \u001b[38;5;66;03m# 127-qubit quantum circuit\u001b[39;00m\n\u001b[1;32m     11\u001b[0m \u001b[38;5;66;03m# Define the Trotter step\u001b[39;00m\n\u001b[1;32m     12\u001b[0m \u001b[38;5;28;01mdef\u001b[39;00m \u001b[38;5;21mtrotter_step\u001b[39m(qc, J, h, delta_t):\n\u001b[1;32m     13\u001b[0m     \u001b[38;5;66;03m# Apply X rotations\u001b[39;00m\n",
      "\u001b[0;31mNameError\u001b[0m: name 'QuantumCircuit' is not defined"
     ]
    }
   ],
   "source": [
    "# from classiq import QuantumCircuit, QuantumOperator\n",
    "\n",
    "# Define the Hamiltonian parameters\n",
    "J = 1.0  # Coupling constant\n",
    "h = 1.0  # Transverse field\n",
    "delta_t = 0.1  # Time step\n",
    "\n",
    "# Create the circuit\n",
    "qc = QuantumCircuit(127)  # 127-qubit quantum circuit\n",
    "\n",
    "# Define the Trotter step\n",
    "def trotter_step(qc, J, h, delta_t):\n",
    "    # Apply X rotations\n",
    "    for qubit in range(127):\n",
    "        qc.rx(qubit, 2 * h * delta_t)\n",
    "    \n",
    "    # Apply ZZ rotations\n",
    "    for qubit in range(0, 127, 2):\n",
    "        qc.rzz(qubit, qubit + 1, -2 * J * delta_t)\n",
    "\n",
    "# Apply Trotter steps\n",
    "num_steps = int(1.0 / delta_t)\n",
    "for step in range(num_steps):\n",
    "    trotter_step(qc, J, h, delta_t)\n",
    "\n",
    "# Add error mitigation steps if necessary"
   ]
  },
  {
   "cell_type": "code",
   "execution_count": null,
   "id": "b2bdf4e7-abda-452d-8d4d-c989133182d4",
   "metadata": {},
   "outputs": [],
   "source": []
  }
 ],
 "metadata": {
  "kernelspec": {
   "display_name": "Python 3 (ipykernel)",
   "language": "python",
   "name": "python3"
  },
  "language_info": {
   "codemirror_mode": {
    "name": "ipython",
    "version": 3
   },
   "file_extension": ".py",
   "mimetype": "text/x-python",
   "name": "python",
   "nbconvert_exporter": "python",
   "pygments_lexer": "ipython3",
   "version": "3.11.7"
  }
 },
 "nbformat": 4,
 "nbformat_minor": 5
}
