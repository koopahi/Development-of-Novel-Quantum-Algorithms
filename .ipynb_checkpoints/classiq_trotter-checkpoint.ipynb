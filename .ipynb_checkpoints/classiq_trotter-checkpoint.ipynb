{
 "cells": [
  {
   "cell_type": "code",
   "execution_count": 5,
   "id": "a92a0cdf-0996-475d-92fa-3141d3985c92",
   "metadata": {},
   "outputs": [],
   "source": [
    "from classiq import *"
   ]
  },
  {
   "cell_type": "code",
   "execution_count": null,
   "id": "de07da06-518a-45a1-a3ee-f8ccfc9538b0",
   "metadata": {},
   "outputs": [
    {
     "name": "stdout",
     "output_type": "stream",
     "text": [
      "1 [TaggedExecutionDetails(value_type=<SavedResultValueType.ExecutionDetails: 'ExecutionDetails'>, name='result', value=ExecutionDetails(vendor_format_result={}, counts={'000': 1}, counts_lsb_right=True, parsed_states={'000': {'qba': [0, 0, 0]}}, histogram=None, output_qubits_map={'qba': (0, 1, 2)}, state_vector=None, parsed_state_vector_states=None, physical_qubits_map={'qba': (0, 1, 2)}, num_shots=1))]\n",
      "101 [TaggedExecutionDetails(value_type=<SavedResultValueType.ExecutionDetails: 'ExecutionDetails'>, name='result', value=ExecutionDetails(vendor_format_result={}, counts={'000': 101}, counts_lsb_right=True, parsed_states={'000': {'qba': [0, 0, 0]}}, histogram=None, output_qubits_map={'qba': (0, 1, 2)}, state_vector=None, parsed_state_vector_states=None, physical_qubits_map={'qba': (0, 1, 2)}, num_shots=101))]\n",
      "201 [TaggedExecutionDetails(value_type=<SavedResultValueType.ExecutionDetails: 'ExecutionDetails'>, name='result', value=ExecutionDetails(vendor_format_result={}, counts={'000': 201}, counts_lsb_right=True, parsed_states={'000': {'qba': [0, 0, 0]}}, histogram=None, output_qubits_map={'qba': (0, 1, 2)}, state_vector=None, parsed_state_vector_states=None, physical_qubits_map={'qba': (0, 1, 2)}, num_shots=201))]\n",
      "301 [TaggedExecutionDetails(value_type=<SavedResultValueType.ExecutionDetails: 'ExecutionDetails'>, name='result', value=ExecutionDetails(vendor_format_result={}, counts={'000': 301}, counts_lsb_right=True, parsed_states={'000': {'qba': [0, 0, 0]}}, histogram=None, output_qubits_map={'qba': (0, 1, 2)}, state_vector=None, parsed_state_vector_states=None, physical_qubits_map={'qba': (0, 1, 2)}, num_shots=301))]\n",
      "401 [TaggedExecutionDetails(value_type=<SavedResultValueType.ExecutionDetails: 'ExecutionDetails'>, name='result', value=ExecutionDetails(vendor_format_result={}, counts={'000': 401}, counts_lsb_right=True, parsed_states={'000': {'qba': [0, 0, 0]}}, histogram=None, output_qubits_map={'qba': (0, 1, 2)}, state_vector=None, parsed_state_vector_states=None, physical_qubits_map={'qba': (0, 1, 2)}, num_shots=401))]\n",
      "501 [TaggedExecutionDetails(value_type=<SavedResultValueType.ExecutionDetails: 'ExecutionDetails'>, name='result', value=ExecutionDetails(vendor_format_result={}, counts={'000': 501}, counts_lsb_right=True, parsed_states={'000': {'qba': [0, 0, 0]}}, histogram=None, output_qubits_map={'qba': (0, 1, 2)}, state_vector=None, parsed_state_vector_states=None, physical_qubits_map={'qba': (0, 1, 2)}, num_shots=501))]\n",
      "601 [TaggedExecutionDetails(value_type=<SavedResultValueType.ExecutionDetails: 'ExecutionDetails'>, name='result', value=ExecutionDetails(vendor_format_result={}, counts={'000': 601}, counts_lsb_right=True, parsed_states={'000': {'qba': [0, 0, 0]}}, histogram=None, output_qubits_map={'qba': (0, 1, 2)}, state_vector=None, parsed_state_vector_states=None, physical_qubits_map={'qba': (0, 1, 2)}, num_shots=601))]\n"
     ]
    }
   ],
   "source": [
    "from classiq import (\n",
    "    CReal,\n",
    "    Output,\n",
    "    Pauli,\n",
    "    PauliTerm,\n",
    "    QArray,\n",
    "    QBit,\n",
    "    allocate,\n",
    "    create_model,\n",
    "    qfunc,\n",
    "    suzuki_trotter,\n",
    "    synthesize,\n",
    "    write_qmod,\n",
    ")\n",
    "\n",
    "\n",
    "@qfunc\n",
    "def main(a: CReal, x: CReal, qba: Output[QArray[QBit]]):\n",
    "    allocate(3, qba)\n",
    "    suzuki_trotter(\n",
    "        [\n",
    "            PauliTerm(pauli=[Pauli.X, Pauli.X, Pauli.Z], coefficient=1),\n",
    "            PauliTerm(pauli=[Pauli.Y, Pauli.X, Pauli.Z], coefficient=0.5),\n",
    "        ],\n",
    "        evolution_coefficient=0.01,\n",
    "        order=1,\n",
    "        repetitions=1,\n",
    "        qbv=qba,\n",
    "    )\n",
    "\n",
    "from classiq.execution import ExecutionPreferences\n",
    "\n",
    "from scipy.optimize import curve_fit\n",
    "def zero_noise_extrapolation(expectation_values, noise_levels):\n",
    "    def exponential(x, a, b, c):\n",
    "        return a * np.exp(b * x) + c\n",
    "    params, _ = curve_fit(exponential, noise_levels, expectation_values)\n",
    "    return params[-1]  # Extrapolated zero-noise value\n",
    "\n",
    "\n",
    "# preferences = Preferences(\n",
    "#     backend_service_provider=ProviderVendor.ALICE_AND_BOB,\n",
    "#     backend_name=AliceBobBackendNames.LOGICAL_TARGET,\n",
    "# )\n",
    "\n",
    "qmod = create_model(main)\n",
    "write_qmod(qmod, \"suzuki_trotter\")\n",
    "for i in range(1, 1000, 100): \n",
    "    execution_preferences = ExecutionPreferences(\n",
    "    num_shots=i,\n",
    "    # backend_preferences=backend_preferences,\n",
    "    )\n",
    "    qmod = set_execution_preferences(qmod, execution_preferences)\n",
    "    qprog = synthesize(qmod)\n",
    "# show(qprog)\n",
    "    result = execute(qprog).result()\n",
    "    print(i, result)"
   ]
  },
  {
   "cell_type": "code",
   "execution_count": null,
   "id": "999a0537-3a2a-4e34-b909-4c6c517e824e",
   "metadata": {},
   "outputs": [],
   "source": [
    "def probabilistic_error_cancellation(noisy_expectation_values, noise_model):\n",
    "    # This involves sampling from noisy circuits and inverting the noise effects\n",
    "    corrected_values = noisy_expectation_values + noisy_expectation_values\n",
    "    return corrected_values\n",
    "\n",
    "# Apply PEC\n",
    "corrected_expectation_values = probabilistic_error_cancellation(expectation_values, noise_model)\n",
    "print(corrected_expectation_values)"
   ]
  }
 ],
 "metadata": {
  "kernelspec": {
   "display_name": "Python 3 (ipykernel)",
   "language": "python",
   "name": "python3"
  },
  "language_info": {
   "codemirror_mode": {
    "name": "ipython",
    "version": 3
   },
   "file_extension": ".py",
   "mimetype": "text/x-python",
   "name": "python",
   "nbconvert_exporter": "python",
   "pygments_lexer": "ipython3",
   "version": "3.11.7"
  }
 },
 "nbformat": 4,
 "nbformat_minor": 5
}
